{
  "nbformat": 4,
  "nbformat_minor": 0,
  "metadata": {
    "kernelspec": {
      "display_name": "Python 3",
      "language": "python",
      "name": "python3"
    },
    "language_info": {
      "codemirror_mode": {
        "name": "ipython",
        "version": 3
      },
      "file_extension": ".py",
      "mimetype": "text/x-python",
      "name": "python",
      "nbconvert_exporter": "python",
      "pygments_lexer": "ipython3",
      "version": "3.7.3"
    },
    "colab": {
      "name": "main.ipynb",
      "provenance": []
    }
  },
  "cells": [
    {
      "cell_type": "markdown",
      "metadata": {
        "id": "yk9G2Hr6rbM7",
        "colab_type": "text"
      },
      "source": [
        "# Before your start:\n",
        "\n",
        "    Read the README.md file\n",
        "    Comment as much as you can and use the resources (README.md file)\n",
        "    Happy learning!\n",
        "\n",
        "*Notes:* \n",
        "\n",
        "- Solve the questions with python.\n",
        "\n",
        "- Round the final answer to three decimal places."
      ]
    },
    {
      "cell_type": "markdown",
      "metadata": {
        "id": "r0Cjz94brbM9",
        "colab_type": "text"
      },
      "source": [
        "## Bernoulli's Distribution\n",
        "\n",
        "In a basket containing 100 fruits, there are 60 apples and 40 oranges. \n",
        "\n",
        "A fruit is picked randomly from the basket. \n",
        "\n",
        "1. **What is the probability that the fruit is apple?**\n",
        "1. **What is the probability that it is an orange?**"
      ]
    },
    {
      "cell_type": "code",
      "metadata": {
        "id": "DISKtUcfrbND",
        "colab_type": "code",
        "colab": {
          "base_uri": "https://localhost:8080/",
          "height": 51
        },
        "outputId": "c0b4d211-0748-466f-b5e6-3158933bceaf"
      },
      "source": [
        "cantidad_manzanas=60\n",
        "cantidad_naranjas=40\n",
        "total=cantidad_manzanas+cantidad_naranjas\n",
        "\n",
        "\"\"\"\n",
        "Calculate:\n",
        "p = probability that the fruit is an apple \n",
        "q = probability that the fruit is an orange\n",
        "\"\"\"\n",
        "p=cantidad_manzanas/total\n",
        "q=cantidad_naranjas/total\n",
        "\n",
        "©"
      ],
      "execution_count": 10,
      "outputs": [
        {
          "output_type": "stream",
          "text": [
            "Probability that the fruit is an apple:  0.6\n",
            "Probability that the fruit is an orange:  0.4\n"
          ],
          "name": "stdout"
        }
      ]
    },
    {
      "cell_type": "markdown",
      "metadata": {
        "id": "jZMOmCV1rbNQ",
        "colab_type": "text"
      },
      "source": [
        "Now we take a random sample of 20 fruits from the basket. After each fruit is taken, a new fruit of the same type is replaced in the basket. Therefore, every time we are taking 1 fruit from 100 fruits. \n",
        "\n",
        "1. **What is the probability that the first 5 fruits are all apples?**\n",
        "\n",
        "1. **What is the probability that the first 5 fruits are all apples and the next 15 fruits are all oranges?**\n",
        "\n",
        "You can include the `p` and `q` probabilities you previous calculated in your solution."
      ]
    },
    {
      "cell_type": "code",
      "metadata": {
        "id": "c12vwpaOrbNT",
        "colab_type": "code",
        "colab": {
          "base_uri": "https://localhost:8080/",
          "height": 51
        },
        "outputId": "f8ceb9b5-f251-4034-fdd8-1de635fd9fcb"
      },
      "source": [
        "pro_5_apples=p**5\n",
        "pro_next15_orange=pro_5_apples*q**15\n",
        "print(pro_5_apples)\n",
        "print(pro_next15_orange)"
      ],
      "execution_count": 13,
      "outputs": [
        {
          "output_type": "stream",
          "text": [
            "0.07775999999999998\n",
            "8.349416423424006e-08\n"
          ],
          "name": "stdout"
        }
      ]
    },
    {
      "cell_type": "markdown",
      "metadata": {
        "id": "vo5QMIO8rbNl",
        "colab_type": "text"
      },
      "source": [
        "## Binomial Distribution\n",
        "\n",
        "Similar to the above problem, this time again we randomly sample 20 fruits.\n",
        "\n",
        "**What is the probability that this time the sample contains 5 apples and 15 oranges?**\n",
        "\n",
        "Please note that this time the order of the fruits being picked does not matter."
      ]
    },
    {
      "cell_type": "code",
      "metadata": {
        "id": "SKQl6HzlrbNp",
        "colab_type": "code",
        "colab": {
          "base_uri": "https://localhost:8080/",
          "height": 34
        },
        "outputId": "f157bc57-41e0-4f19-b6c1-8c27463ef53c"
      },
      "source": [
        "import numpy as np\n",
        "from scipy.stats import binom\n",
        "\n",
        "probabilidad_5_manzanas=binom.pmf(k=5,n=20,p=p)\n",
        "probabilidad_15_naranjas=binom.pmf(k=15,n=20,p=q)\n",
        "\n",
        "print(\"La probabilidad de 5 manzanas y 15 naranjas de una selección de 20 frutas es:\",probabilidad_5_manzanas)"
      ],
      "execution_count": 40,
      "outputs": [
        {
          "output_type": "stream",
          "text": [
            "La probabilidad de 5 manzanas y 15 naranjas de una selección de 20 frutas es: 0.0012944935222876511\n"
          ],
          "name": "stdout"
        }
      ]
    },
    {
      "cell_type": "markdown",
      "metadata": {
        "id": "MjDl87C2rbNy",
        "colab_type": "text"
      },
      "source": [
        "In the lesson we also discussed CDF (cumulative distribution function). In the context of the above problem, **what is the probability that less than 5 fruits picked are apples?**\n",
        "\n",
        "Write the formula and calculate the probability below."
      ]
    },
    {
      "cell_type": "code",
      "metadata": {
        "id": "Nw86D-z9rbN4",
        "colab_type": "code",
        "colab": {
          "base_uri": "https://localhost:8080/",
          "height": 34
        },
        "outputId": "a2bd0673-5d74-4d05-8e3f-9324dd21bf14"
      },
      "source": [
        "menos_5_manzanas=binom.pmf(k=[0,1,2,3,4],n=20,p=p)\n",
        "sum(menos_5_manzanas)"
      ],
      "execution_count": 55,
      "outputs": [
        {
          "output_type": "execute_result",
          "data": {
            "text/plain": [
              "0.0003170311211686291"
            ]
          },
          "metadata": {
            "tags": []
          },
          "execution_count": 55
        }
      ]
    },
    {
      "cell_type": "markdown",
      "metadata": {
        "id": "DDK2UN9KrbOR",
        "colab_type": "text"
      },
      "source": [
        "**Plot the PDF (probability distributiom function) for the above binomial distribution.**\n",
        "\n",
        "*Hint: The range of x in a binomial distribution is from `0` to `n`.*"
      ]
    },
    {
      "cell_type": "code",
      "metadata": {
        "id": "9vSJvSO_rbOS",
        "colab_type": "code",
        "colab": {
          "base_uri": "https://localhost:8080/",
          "height": 265
        },
        "outputId": "6102874a-1a9c-42fa-ab8e-d346697a53a2"
      },
      "source": [
        "import seaborn as sns\n",
        "import matplotlib.pyplot as plt\n",
        "\n",
        "ax = sns.distplot(menos_5_manzanas,bins=31)\n",
        "#ax.set_xlabel('Beneficios')\n",
        "#ax.set_ylabel('Probabilidad (beneficios)')\n",
        "plt.show()"
      ],
      "execution_count": 54,
      "outputs": [
        {
          "output_type": "display_data",
          "data": {
            "image/png": "[encoded data removed]",
            "text/plain": [
              "<Figure size 432x288 with 1 Axes>"
            ]
          },
          "metadata": {
            "tags": [],
            "needs_background": "light"
          }
        }
      ]
    },
    {
      "cell_type": "markdown",
      "metadata": {
        "id": "O6NT88ODrbOa",
        "colab_type": "text"
      },
      "source": [
        "## Poisson Distribution\n",
        "\n",
        "In this challenge you are required to use the Math library in python to solve the problems.\n",
        "\n",
        "In the UEFA champions league tournament, the average number of goals scored in a match is 2.3. \n",
        "\n",
        "**What is the probability that the number of goals scored in a match is 5?**\n",
        "\n",
        "*Hint: Use the exp() in the math library*\n",
        "\n",
        "And to calculate the factorial, you can use the following code:\n",
        "\n",
        "```python\n",
        "import math\n",
        "math.factorial(n) # n is the number you want to find the factorial of\n",
        "```"
      ]
    },
    {
      "cell_type": "code",
      "metadata": {
        "id": "QmWNWdYurbOb",
        "colab_type": "code",
        "colab": {}
      },
      "source": [
        "import math\n",
        "def poisson_uefa(frecuencia):\n",
        "  return ((2.3**frecuencia*math.exp(-2.3))/math.factorial(frecuencia))"
      ],
      "execution_count": 0,
      "outputs": []
    },
    {
      "cell_type": "code",
      "metadata": {
        "id": "KH36HHAf61fs",
        "colab_type": "code",
        "colab": {
          "base_uri": "https://localhost:8080/",
          "height": 34
        },
        "outputId": "8ce82dc6-6ff5-4e5d-f9a9-87f176ed6bbf"
      },
      "source": [
        "##Probabilidad de 5 goles\n",
        "poisson_uefa(5)"
      ],
      "execution_count": 73,
      "outputs": [
        {
          "output_type": "execute_result",
          "data": {
            "text/plain": [
              "0.0537750255819468"
            ]
          },
          "metadata": {
            "tags": []
          },
          "execution_count": 73
        }
      ]
    },
    {
      "cell_type": "markdown",
      "metadata": {
        "id": "PBU3psxqrbOv",
        "colab_type": "text"
      },
      "source": [
        "**Draw a poisson probability distribution plot for the number of goals to be between 0 to 10.**"
      ]
    },
    {
      "cell_type": "code",
      "metadata": {
        "id": "c4PQDL8qrbOw",
        "colab_type": "code",
        "colab": {}
      },
      "source": [
        "from scipy.stats import poisson\n",
        "m=2.3"
      ],
      "execution_count": 0,
      "outputs": []
    },
    {
      "cell_type": "code",
      "metadata": {
        "id": "woXWGDYi9BkX",
        "colab_type": "code",
        "colab": {
          "base_uri": "https://localhost:8080/",
          "height": 282
        },
        "outputId": "084e18b7-1ba5-4f20-f3bd-537643725cb7"
      },
      "source": [
        "x=np.arange(0,10)\n",
        "fig, ax=plt.subplots(1,1)\n",
        "ax.plot(x,poisson.pmf(x,m),'bo',ms=8)\n",
        "ax.vlines(x,0,poisson.pmf(x,m),colors=\"b\",lw=5,alpha=0.5)"
      ],
      "execution_count": 76,
      "outputs": [
        {
          "output_type": "execute_result",
          "data": {
            "text/plain": [
              "<matplotlib.collections.LineCollection at 0x7fbe47ed9908>"
            ]
          },
          "metadata": {
            "tags": []
          },
          "execution_count": 76
        },
        {
          "output_type": "display_data",
          "data": {
            "image/png": "[encoded data removed]",
            "text/plain": [
              "<Figure size 432x288 with 1 Axes>"
            ]
          },
          "metadata": {
            "tags": [],
            "needs_background": "light"
          }
        }
      ]
    },
    {
      "cell_type": "code",
      "metadata": {
        "id": "rJvhtfXW9VWe",
        "colab_type": "code",
        "colab": {}
      },
      "source": [
        ""
      ],
      "execution_count": 0,
      "outputs": []
    }
  ]
}